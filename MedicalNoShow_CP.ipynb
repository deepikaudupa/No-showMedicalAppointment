{
  "nbformat": 4,
  "nbformat_minor": 0,
  "metadata": {
    "colab": {
      "name": "MedicalNoShow_CP.ipynb",
      "provenance": [],
      "collapsed_sections": []
    },
    "kernelspec": {
      "name": "python3",
      "display_name": "Python 3"
    }
  },
  "cells": [
    {
      "cell_type": "markdown",
      "metadata": {
        "id": "-1JGbG2r1uTZ",
        "colab_type": "text"
      },
      "source": [
        "# **Exercise 1: Predict whether the person will show up for his medical appointment**\n",
        "\n",
        "---\n",
        "\n"
      ]
    },
    {
      "cell_type": "markdown",
      "metadata": {
        "id": "wFVyoZzpEpm5",
        "colab_type": "text"
      },
      "source": [
        "\n",
        "**Understanding the data: medical appointment train.csv**\n",
        "\n",
        "\n",
        "> The dataset altogether has 14 features. 13 independent features and 1 dependent which is the target feature: **No-show** with 'Yes' or 'No' values. \n",
        ">\n",
        "> 5 category of patients: Conditions with '0' or '1' values\n",
        ">\n",
        "> *  Scholarship\n",
        "> *  Hypertension\n",
        "> *   Diabetes\n",
        "> *   Alcoholism\n",
        "> *   Handicap\n",
        "\n",
        "\n",
        "\n",
        "\n",
        "\n"
      ]
    },
    {
      "cell_type": "markdown",
      "metadata": {
        "id": "dC1O4QXBIicO",
        "colab_type": "text"
      },
      "source": [
        "## Import\n",
        "\n",
        "> *   All necessary libraries for the task\n",
        "> *   Data from drive\n",
        "\n"
      ]
    },
    {
      "cell_type": "code",
      "metadata": {
        "id": "6-gqMJ971ock",
        "colab_type": "code",
        "outputId": "fa0f0dfb-0759-4681-b83e-34752889dcf5",
        "colab": {
          "base_uri": "https://localhost:8080/",
          "height": 80
        }
      },
      "source": [
        "import os\n",
        "import tensorflow\n",
        "\n",
        "import numpy as np\n",
        "import matplotlib.pyplot as plt\n",
        "import pandas as pd\n",
        "from datetime import datetime\n",
        "\n",
        "from sklearn.model_selection import train_test_split\n",
        "from sklearn.model_selection import KFold, cross_val_score\n",
        "\n",
        "from sklearn.preprocessing import StandardScaler, LabelEncoder\n",
        "\n",
        "from sklearn.metrics import f1_score, confusion_matrix ,accuracy_score\n",
        "from sklearn.metrics import precision_score, recall_score, confusion_matrix, roc_curve, roc_auc_score\n",
        "\n",
        "from keras.models import Model, Sequential\n",
        "from keras.optimizers import Adadelta, RMSprop, SGD, Adam\n",
        "from keras.layers import Input, Dense, Flatten, Dropout\n",
        "from keras.layers.normalization import BatchNormalization\n",
        "from keras.callbacks import ModelCheckpoint"
      ],
      "execution_count": 1,
      "outputs": [
        {
          "output_type": "display_data",
          "data": {
            "text/html": [
              "<p style=\"color: red;\">\n",
              "The default version of TensorFlow in Colab will soon switch to TensorFlow 2.x.<br>\n",
              "We recommend you <a href=\"https://www.tensorflow.org/guide/migrate\" target=\"_blank\">upgrade</a> now \n",
              "or ensure your notebook will continue to use TensorFlow 1.x via the <code>%tensorflow_version 1.x</code> magic:\n",
              "<a href=\"https://colab.research.google.com/notebooks/tensorflow_version.ipynb\" target=\"_blank\">more info</a>.</p>\n"
            ],
            "text/plain": [
              "<IPython.core.display.HTML object>"
            ]
          },
          "metadata": {
            "tags": []
          }
        },
        {
          "output_type": "stream",
          "text": [
            "Using TensorFlow backend.\n"
          ],
          "name": "stderr"
        }
      ]
    },
    {
      "cell_type": "markdown",
      "metadata": {
        "id": "PJ3ECSrkKSn-",
        "colab_type": "text"
      },
      "source": [
        "> Mount the google drive(for colab)"
      ]
    },
    {
      "cell_type": "code",
      "metadata": {
        "id": "vd9Hk2i8KS1s",
        "colab_type": "code",
        "outputId": "41b9716d-c22a-4586-927b-5cb2fd02bd94",
        "colab": {
          "base_uri": "https://localhost:8080/",
          "height": 122
        }
      },
      "source": [
        "from google.colab import drive\n",
        "drive.mount('/content/gdrive')"
      ],
      "execution_count": 2,
      "outputs": [
        {
          "output_type": "stream",
          "text": [
            "Go to this URL in a browser: https://accounts.google.com/o/oauth2/auth?client_id=947318989803-6bn6qk8qdgf4n4g3pfee6491hc0brc4i.apps.googleusercontent.com&redirect_uri=urn%3aietf%3awg%3aoauth%3a2.0%3aoob&response_type=code&scope=email%20https%3a%2f%2fwww.googleapis.com%2fauth%2fdocs.test%20https%3a%2f%2fwww.googleapis.com%2fauth%2fdrive%20https%3a%2f%2fwww.googleapis.com%2fauth%2fdrive.photos.readonly%20https%3a%2f%2fwww.googleapis.com%2fauth%2fpeopleapi.readonly\n",
            "\n",
            "Enter your authorization code:\n",
            "··········\n",
            "Mounted at /content/gdrive\n"
          ],
          "name": "stdout"
        }
      ]
    },
    {
      "cell_type": "markdown",
      "metadata": {
        "id": "abEb9MIQKTOb",
        "colab_type": "text"
      },
      "source": [
        "> Import the dataset and extract information from the csv file"
      ]
    },
    {
      "cell_type": "code",
      "metadata": {
        "id": "sIg9phpSKTb5",
        "colab_type": "code",
        "outputId": "4f27fdb1-3423-4b5c-a4c4-71582606c8b3",
        "colab": {
          "base_uri": "https://localhost:8080/",
          "height": 566
        }
      },
      "source": [
        "data= pd.read_csv('/content/gdrive/My Drive/Colab Notebooks/medical_appointment_train.csv')\n",
        "#data.describe\n",
        "data.head(10)"
      ],
      "execution_count": 3,
      "outputs": [
        {
          "output_type": "execute_result",
          "data": {
            "text/html": [
              "<div>\n",
              "<style scoped>\n",
              "    .dataframe tbody tr th:only-of-type {\n",
              "        vertical-align: middle;\n",
              "    }\n",
              "\n",
              "    .dataframe tbody tr th {\n",
              "        vertical-align: top;\n",
              "    }\n",
              "\n",
              "    .dataframe thead th {\n",
              "        text-align: right;\n",
              "    }\n",
              "</style>\n",
              "<table border=\"1\" class=\"dataframe\">\n",
              "  <thead>\n",
              "    <tr style=\"text-align: right;\">\n",
              "      <th></th>\n",
              "      <th>PatientID</th>\n",
              "      <th>AppointmentID</th>\n",
              "      <th>Gender</th>\n",
              "      <th>ScheduledDay</th>\n",
              "      <th>AppointmentDay</th>\n",
              "      <th>Age</th>\n",
              "      <th>Neighbourhood</th>\n",
              "      <th>Scholarship</th>\n",
              "      <th>Hypertension</th>\n",
              "      <th>Diabetes</th>\n",
              "      <th>Alcoholism</th>\n",
              "      <th>Handicap</th>\n",
              "      <th>SMS_received</th>\n",
              "      <th>No-show</th>\n",
              "    </tr>\n",
              "  </thead>\n",
              "  <tbody>\n",
              "    <tr>\n",
              "      <th>0</th>\n",
              "      <td>2.987250e+13</td>\n",
              "      <td>5642903</td>\n",
              "      <td>F</td>\n",
              "      <td>2016-04-29T18:38:08Z</td>\n",
              "      <td>2016-04-29T00:00:00Z</td>\n",
              "      <td>62</td>\n",
              "      <td>JARDIM DA PENHA</td>\n",
              "      <td>0</td>\n",
              "      <td>1</td>\n",
              "      <td>0</td>\n",
              "      <td>0</td>\n",
              "      <td>0</td>\n",
              "      <td>0</td>\n",
              "      <td>No</td>\n",
              "    </tr>\n",
              "    <tr>\n",
              "      <th>1</th>\n",
              "      <td>5.589978e+14</td>\n",
              "      <td>5642503</td>\n",
              "      <td>M</td>\n",
              "      <td>2016-04-29T16:08:27Z</td>\n",
              "      <td>2016-04-29T00:00:00Z</td>\n",
              "      <td>56</td>\n",
              "      <td>JARDIM DA PENHA</td>\n",
              "      <td>0</td>\n",
              "      <td>0</td>\n",
              "      <td>0</td>\n",
              "      <td>0</td>\n",
              "      <td>0</td>\n",
              "      <td>0</td>\n",
              "      <td>No</td>\n",
              "    </tr>\n",
              "    <tr>\n",
              "      <th>2</th>\n",
              "      <td>4.262962e+12</td>\n",
              "      <td>5642549</td>\n",
              "      <td>F</td>\n",
              "      <td>2016-04-29T16:19:04Z</td>\n",
              "      <td>2016-04-29T00:00:00Z</td>\n",
              "      <td>62</td>\n",
              "      <td>MATA DA PRAIA</td>\n",
              "      <td>0</td>\n",
              "      <td>0</td>\n",
              "      <td>0</td>\n",
              "      <td>0</td>\n",
              "      <td>0</td>\n",
              "      <td>0</td>\n",
              "      <td>No</td>\n",
              "    </tr>\n",
              "    <tr>\n",
              "      <th>3</th>\n",
              "      <td>8.679512e+11</td>\n",
              "      <td>5642828</td>\n",
              "      <td>F</td>\n",
              "      <td>2016-04-29T17:29:31Z</td>\n",
              "      <td>2016-04-29T00:00:00Z</td>\n",
              "      <td>8</td>\n",
              "      <td>PONTAL DE CAMBURI</td>\n",
              "      <td>0</td>\n",
              "      <td>0</td>\n",
              "      <td>0</td>\n",
              "      <td>0</td>\n",
              "      <td>0</td>\n",
              "      <td>0</td>\n",
              "      <td>No</td>\n",
              "    </tr>\n",
              "    <tr>\n",
              "      <th>4</th>\n",
              "      <td>8.841186e+12</td>\n",
              "      <td>5642494</td>\n",
              "      <td>F</td>\n",
              "      <td>2016-04-29T16:07:23Z</td>\n",
              "      <td>2016-04-29T00:00:00Z</td>\n",
              "      <td>56</td>\n",
              "      <td>JARDIM DA PENHA</td>\n",
              "      <td>0</td>\n",
              "      <td>1</td>\n",
              "      <td>1</td>\n",
              "      <td>0</td>\n",
              "      <td>0</td>\n",
              "      <td>0</td>\n",
              "      <td>No</td>\n",
              "    </tr>\n",
              "    <tr>\n",
              "      <th>5</th>\n",
              "      <td>9.598513e+13</td>\n",
              "      <td>5626772</td>\n",
              "      <td>F</td>\n",
              "      <td>2016-04-27T08:36:51Z</td>\n",
              "      <td>2016-04-29T00:00:00Z</td>\n",
              "      <td>76</td>\n",
              "      <td>REPÚBLICA</td>\n",
              "      <td>0</td>\n",
              "      <td>1</td>\n",
              "      <td>0</td>\n",
              "      <td>0</td>\n",
              "      <td>0</td>\n",
              "      <td>0</td>\n",
              "      <td>No</td>\n",
              "    </tr>\n",
              "    <tr>\n",
              "      <th>6</th>\n",
              "      <td>7.336882e+14</td>\n",
              "      <td>5630279</td>\n",
              "      <td>F</td>\n",
              "      <td>2016-04-27T15:05:12Z</td>\n",
              "      <td>2016-04-29T00:00:00Z</td>\n",
              "      <td>23</td>\n",
              "      <td>GOIABEIRAS</td>\n",
              "      <td>0</td>\n",
              "      <td>0</td>\n",
              "      <td>0</td>\n",
              "      <td>0</td>\n",
              "      <td>0</td>\n",
              "      <td>0</td>\n",
              "      <td>Yes</td>\n",
              "    </tr>\n",
              "    <tr>\n",
              "      <th>7</th>\n",
              "      <td>3.449833e+12</td>\n",
              "      <td>5630575</td>\n",
              "      <td>F</td>\n",
              "      <td>2016-04-27T15:39:58Z</td>\n",
              "      <td>2016-04-29T00:00:00Z</td>\n",
              "      <td>39</td>\n",
              "      <td>GOIABEIRAS</td>\n",
              "      <td>0</td>\n",
              "      <td>0</td>\n",
              "      <td>0</td>\n",
              "      <td>0</td>\n",
              "      <td>0</td>\n",
              "      <td>0</td>\n",
              "      <td>Yes</td>\n",
              "    </tr>\n",
              "    <tr>\n",
              "      <th>8</th>\n",
              "      <td>5.639473e+13</td>\n",
              "      <td>5638447</td>\n",
              "      <td>F</td>\n",
              "      <td>2016-04-29T08:02:16Z</td>\n",
              "      <td>2016-04-29T00:00:00Z</td>\n",
              "      <td>21</td>\n",
              "      <td>ANDORINHAS</td>\n",
              "      <td>0</td>\n",
              "      <td>0</td>\n",
              "      <td>0</td>\n",
              "      <td>0</td>\n",
              "      <td>0</td>\n",
              "      <td>0</td>\n",
              "      <td>No</td>\n",
              "    </tr>\n",
              "    <tr>\n",
              "      <th>9</th>\n",
              "      <td>7.812456e+13</td>\n",
              "      <td>5629123</td>\n",
              "      <td>F</td>\n",
              "      <td>2016-04-27T12:48:25Z</td>\n",
              "      <td>2016-04-29T00:00:00Z</td>\n",
              "      <td>19</td>\n",
              "      <td>CONQUISTA</td>\n",
              "      <td>0</td>\n",
              "      <td>0</td>\n",
              "      <td>0</td>\n",
              "      <td>0</td>\n",
              "      <td>0</td>\n",
              "      <td>0</td>\n",
              "      <td>No</td>\n",
              "    </tr>\n",
              "  </tbody>\n",
              "</table>\n",
              "</div>"
            ],
            "text/plain": [
              "      PatientID  AppointmentID Gender  ... Handicap SMS_received  No-show\n",
              "0  2.987250e+13        5642903      F  ...        0            0       No\n",
              "1  5.589978e+14        5642503      M  ...        0            0       No\n",
              "2  4.262962e+12        5642549      F  ...        0            0       No\n",
              "3  8.679512e+11        5642828      F  ...        0            0       No\n",
              "4  8.841186e+12        5642494      F  ...        0            0       No\n",
              "5  9.598513e+13        5626772      F  ...        0            0       No\n",
              "6  7.336882e+14        5630279      F  ...        0            0      Yes\n",
              "7  3.449833e+12        5630575      F  ...        0            0      Yes\n",
              "8  5.639473e+13        5638447      F  ...        0            0       No\n",
              "9  7.812456e+13        5629123      F  ...        0            0       No\n",
              "\n",
              "[10 rows x 14 columns]"
            ]
          },
          "metadata": {
            "tags": []
          },
          "execution_count": 3
        }
      ]
    },
    {
      "cell_type": "code",
      "metadata": {
        "id": "PxSipV2MTLz7",
        "colab_type": "code",
        "outputId": "d10361ee-5cee-4bc9-b7c3-a832e793f028",
        "colab": {
          "base_uri": "https://localhost:8080/",
          "height": 374
        }
      },
      "source": [
        "data.info()\n",
        "print (\"Rows: \", data.shape[0])\n",
        "print (\"Columns: \", data.shape[1])"
      ],
      "execution_count": 4,
      "outputs": [
        {
          "output_type": "stream",
          "text": [
            "<class 'pandas.core.frame.DataFrame'>\n",
            "RangeIndex: 110527 entries, 0 to 110526\n",
            "Data columns (total 14 columns):\n",
            "PatientID         110527 non-null float64\n",
            "AppointmentID     110527 non-null int64\n",
            "Gender            110527 non-null object\n",
            "ScheduledDay      110527 non-null object\n",
            "AppointmentDay    110527 non-null object\n",
            "Age               110527 non-null int64\n",
            "Neighbourhood     110527 non-null object\n",
            "Scholarship       110527 non-null int64\n",
            "Hypertension      110527 non-null int64\n",
            "Diabetes          110527 non-null int64\n",
            "Alcoholism        110527 non-null int64\n",
            "Handicap          110527 non-null int64\n",
            "SMS_received      110527 non-null int64\n",
            "No-show           110527 non-null object\n",
            "dtypes: float64(1), int64(8), object(5)\n",
            "memory usage: 11.8+ MB\n",
            "Rows:  110527\n",
            "Columns:  14\n"
          ],
          "name": "stdout"
        }
      ]
    },
    {
      "cell_type": "code",
      "metadata": {
        "id": "Ixb2GH9BVrAJ",
        "colab_type": "code",
        "colab": {
          "base_uri": "https://localhost:8080/",
          "height": 272
        },
        "outputId": "b9416714-9ff9-4e8b-ba4f-d0c4c2af2606"
      },
      "source": [
        "data.nunique()"
      ],
      "execution_count": 5,
      "outputs": [
        {
          "output_type": "execute_result",
          "data": {
            "text/plain": [
              "PatientID          62299\n",
              "AppointmentID     110527\n",
              "Gender                 2\n",
              "ScheduledDay      103549\n",
              "AppointmentDay        27\n",
              "Age                  104\n",
              "Neighbourhood         81\n",
              "Scholarship            2\n",
              "Hypertension           2\n",
              "Diabetes               2\n",
              "Alcoholism             2\n",
              "Handicap               5\n",
              "SMS_received           2\n",
              "No-show                2\n",
              "dtype: int64"
            ]
          },
          "metadata": {
            "tags": []
          },
          "execution_count": 5
        }
      ]
    },
    {
      "cell_type": "markdown",
      "metadata": {
        "id": "2zXRUH_5z4Me",
        "colab_type": "text"
      },
      "source": [
        "## Processing of data\n",
        "\n",
        "\n",
        "\n",
        ">  *   With and without preprocessing of data\n",
        ">  *   Implement 10-fold crossvalidation to avoid overfitting\n",
        "\n",
        "\n",
        "\n",
        "\n"
      ]
    },
    {
      "cell_type": "markdown",
      "metadata": {
        "id": "W6yPGjWtVKjH",
        "colab_type": "text"
      },
      "source": [
        "**With data preprocessing** : \n",
        "\n",
        "> Analyze the dataset. Key observations: \n",
        ">\n",
        "> *   PatientID is float : Cast it to int64\n",
        "> *   Check for invalid entries\n",
        "> *   Check the dependencies of features: Drop unrealated features\n",
        "> *    Check for duplicates - no duplicate values in dataset\n",
        "> *    Negative age present. -1. Cap the age from 0-100\n",
        "\n",
        "\n",
        "\n"
      ]
    },
    {
      "cell_type": "code",
      "metadata": {
        "id": "j13f2Iq4z4l_",
        "colab_type": "code",
        "outputId": "ac78ca0c-a7a7-46a7-b2c5-3b7e10eb2540",
        "colab": {
          "base_uri": "https://localhost:8080/",
          "height": 617
        }
      },
      "source": [
        "dupl= sum(data.duplicated())\n",
        "print(dupl) #check for duplicates. Sum has to be 0.\n",
        "\n",
        "data.isnull().any() #null entry check\n",
        "\n",
        "data['PatientID'] = data['PatientID'].astype(int)\n",
        "\n",
        "#map Gender and No-show to 0 and 1 to make it plottable\n",
        "data['Gender'] = data['Gender'].map({'M':1, 'F':0})\n",
        "data['No-show'] = data['No-show'].map({'Yes':1, 'No':0})\n",
        "\n",
        "#convert Appointment day and Schedule day to datetime\n",
        "# data['ScheduledDay'] = data['ScheduledDay'].apply(np.datetime64)\n",
        "# data['AppointmentDay']   = data['AppointmentDay'].apply(np.datetime64)\n",
        "# data['ScheduledDay'] = data['ScheduledDay'].apply(lambda x: x.strftime(\"%Y-%m-%d\"))\n",
        "# data['AppointmentDay'] = data['AppointmentDay'].apply(lambda x: x.strftime(\"%Y-%m-%d\"))\n",
        "\n",
        "#format date \n",
        "# d = {0:'Monday',1:'Tuesday',2:'Wednesday',3:'Thursday',4:'Friday',5:'Saturday',6:'Sunday'}\n",
        "data['Modified_AppointmentDay'] = data['AppointmentDay'].map(lambda x: datetime.strptime(x,\"%Y-%m-%dT%H:%M:%SZ\"))\n",
        "data['AppointmentDay_Month'] = data['Modified_AppointmentDay'].map(lambda x: x.month)\n",
        "data['AppointmentDay_Day'] = data['Modified_AppointmentDay'].map(lambda x: x.day)\n",
        "data['AppointmentDay_Weekday'] = data['Modified_AppointmentDay'].map(lambda x: x.weekday())\n",
        "# data['AppointmentDay_weekday'] = data['AppointmentDay_weekday'].dt.weekday\n",
        "\n",
        "data['Modified_ScheduledDay'] = data['ScheduledDay'].map(lambda x: datetime.strptime(x,\"%Y-%m-%dT%H:%M:%SZ\"))\n",
        "data['ScheduledDay_Month'] = data['Modified_ScheduledDay'].map(lambda x: x.month)\n",
        "data['ScheduledDay_Day'] = data['Modified_ScheduledDay'].map(lambda x: x.day)\n",
        "data['ScheduledDay_Weekday'] = data['Modified_ScheduledDay'].map(lambda x: x.weekday())\n",
        "# data['ScheduledDay_weekday'] = data['ScheduledDay_weekday'].replace(d)\n",
        "\n",
        "data['Num_App_Missed'] = data.groupby('PatientID')['No-show'].apply(lambda x: x.cumsum())\n",
        "\n",
        "print('Age: ', sorted (data.Age.unique()))\n",
        "data = data[(data['Age']>=0) & (data['Age']<100)]\n",
        "print('Age: ', sorted (data.Age.unique()))\n",
        "\n",
        "data.head(10)\n",
        "#data.info()"
      ],
      "execution_count": 6,
      "outputs": [
        {
          "output_type": "stream",
          "text": [
            "0\n",
            "Age:  [-1, 0, 1, 2, 3, 4, 5, 6, 7, 8, 9, 10, 11, 12, 13, 14, 15, 16, 17, 18, 19, 20, 21, 22, 23, 24, 25, 26, 27, 28, 29, 30, 31, 32, 33, 34, 35, 36, 37, 38, 39, 40, 41, 42, 43, 44, 45, 46, 47, 48, 49, 50, 51, 52, 53, 54, 55, 56, 57, 58, 59, 60, 61, 62, 63, 64, 65, 66, 67, 68, 69, 70, 71, 72, 73, 74, 75, 76, 77, 78, 79, 80, 81, 82, 83, 84, 85, 86, 87, 88, 89, 90, 91, 92, 93, 94, 95, 96, 97, 98, 99, 100, 102, 115]\n",
            "Age:  [0, 1, 2, 3, 4, 5, 6, 7, 8, 9, 10, 11, 12, 13, 14, 15, 16, 17, 18, 19, 20, 21, 22, 23, 24, 25, 26, 27, 28, 29, 30, 31, 32, 33, 34, 35, 36, 37, 38, 39, 40, 41, 42, 43, 44, 45, 46, 47, 48, 49, 50, 51, 52, 53, 54, 55, 56, 57, 58, 59, 60, 61, 62, 63, 64, 65, 66, 67, 68, 69, 70, 71, 72, 73, 74, 75, 76, 77, 78, 79, 80, 81, 82, 83, 84, 85, 86, 87, 88, 89, 90, 91, 92, 93, 94, 95, 96, 97, 98, 99]\n"
          ],
          "name": "stdout"
        },
        {
          "output_type": "execute_result",
          "data": {
            "text/html": [
              "<div>\n",
              "<style scoped>\n",
              "    .dataframe tbody tr th:only-of-type {\n",
              "        vertical-align: middle;\n",
              "    }\n",
              "\n",
              "    .dataframe tbody tr th {\n",
              "        vertical-align: top;\n",
              "    }\n",
              "\n",
              "    .dataframe thead th {\n",
              "        text-align: right;\n",
              "    }\n",
              "</style>\n",
              "<table border=\"1\" class=\"dataframe\">\n",
              "  <thead>\n",
              "    <tr style=\"text-align: right;\">\n",
              "      <th></th>\n",
              "      <th>PatientID</th>\n",
              "      <th>AppointmentID</th>\n",
              "      <th>Gender</th>\n",
              "      <th>ScheduledDay</th>\n",
              "      <th>AppointmentDay</th>\n",
              "      <th>Age</th>\n",
              "      <th>Neighbourhood</th>\n",
              "      <th>Scholarship</th>\n",
              "      <th>Hypertension</th>\n",
              "      <th>Diabetes</th>\n",
              "      <th>Alcoholism</th>\n",
              "      <th>Handicap</th>\n",
              "      <th>SMS_received</th>\n",
              "      <th>No-show</th>\n",
              "      <th>Modified_AppointmentDay</th>\n",
              "      <th>AppointmentDay_Month</th>\n",
              "      <th>AppointmentDay_Day</th>\n",
              "      <th>AppointmentDay_Weekday</th>\n",
              "      <th>Modified_ScheduledDay</th>\n",
              "      <th>ScheduledDay_Month</th>\n",
              "      <th>ScheduledDay_Day</th>\n",
              "      <th>ScheduledDay_Weekday</th>\n",
              "      <th>Num_App_Missed</th>\n",
              "    </tr>\n",
              "  </thead>\n",
              "  <tbody>\n",
              "    <tr>\n",
              "      <th>0</th>\n",
              "      <td>29872499824296</td>\n",
              "      <td>5642903</td>\n",
              "      <td>0</td>\n",
              "      <td>2016-04-29T18:38:08Z</td>\n",
              "      <td>2016-04-29T00:00:00Z</td>\n",
              "      <td>62</td>\n",
              "      <td>JARDIM DA PENHA</td>\n",
              "      <td>0</td>\n",
              "      <td>1</td>\n",
              "      <td>0</td>\n",
              "      <td>0</td>\n",
              "      <td>0</td>\n",
              "      <td>0</td>\n",
              "      <td>0</td>\n",
              "      <td>2016-04-29</td>\n",
              "      <td>4</td>\n",
              "      <td>29</td>\n",
              "      <td>4</td>\n",
              "      <td>2016-04-29 18:38:08</td>\n",
              "      <td>4</td>\n",
              "      <td>29</td>\n",
              "      <td>4</td>\n",
              "      <td>0</td>\n",
              "    </tr>\n",
              "    <tr>\n",
              "      <th>1</th>\n",
              "      <td>558997776694438</td>\n",
              "      <td>5642503</td>\n",
              "      <td>1</td>\n",
              "      <td>2016-04-29T16:08:27Z</td>\n",
              "      <td>2016-04-29T00:00:00Z</td>\n",
              "      <td>56</td>\n",
              "      <td>JARDIM DA PENHA</td>\n",
              "      <td>0</td>\n",
              "      <td>0</td>\n",
              "      <td>0</td>\n",
              "      <td>0</td>\n",
              "      <td>0</td>\n",
              "      <td>0</td>\n",
              "      <td>0</td>\n",
              "      <td>2016-04-29</td>\n",
              "      <td>4</td>\n",
              "      <td>29</td>\n",
              "      <td>4</td>\n",
              "      <td>2016-04-29 16:08:27</td>\n",
              "      <td>4</td>\n",
              "      <td>29</td>\n",
              "      <td>4</td>\n",
              "      <td>0</td>\n",
              "    </tr>\n",
              "    <tr>\n",
              "      <th>2</th>\n",
              "      <td>4262962299951</td>\n",
              "      <td>5642549</td>\n",
              "      <td>0</td>\n",
              "      <td>2016-04-29T16:19:04Z</td>\n",
              "      <td>2016-04-29T00:00:00Z</td>\n",
              "      <td>62</td>\n",
              "      <td>MATA DA PRAIA</td>\n",
              "      <td>0</td>\n",
              "      <td>0</td>\n",
              "      <td>0</td>\n",
              "      <td>0</td>\n",
              "      <td>0</td>\n",
              "      <td>0</td>\n",
              "      <td>0</td>\n",
              "      <td>2016-04-29</td>\n",
              "      <td>4</td>\n",
              "      <td>29</td>\n",
              "      <td>4</td>\n",
              "      <td>2016-04-29 16:19:04</td>\n",
              "      <td>4</td>\n",
              "      <td>29</td>\n",
              "      <td>4</td>\n",
              "      <td>0</td>\n",
              "    </tr>\n",
              "    <tr>\n",
              "      <th>3</th>\n",
              "      <td>867951213174</td>\n",
              "      <td>5642828</td>\n",
              "      <td>0</td>\n",
              "      <td>2016-04-29T17:29:31Z</td>\n",
              "      <td>2016-04-29T00:00:00Z</td>\n",
              "      <td>8</td>\n",
              "      <td>PONTAL DE CAMBURI</td>\n",
              "      <td>0</td>\n",
              "      <td>0</td>\n",
              "      <td>0</td>\n",
              "      <td>0</td>\n",
              "      <td>0</td>\n",
              "      <td>0</td>\n",
              "      <td>0</td>\n",
              "      <td>2016-04-29</td>\n",
              "      <td>4</td>\n",
              "      <td>29</td>\n",
              "      <td>4</td>\n",
              "      <td>2016-04-29 17:29:31</td>\n",
              "      <td>4</td>\n",
              "      <td>29</td>\n",
              "      <td>4</td>\n",
              "      <td>0</td>\n",
              "    </tr>\n",
              "    <tr>\n",
              "      <th>4</th>\n",
              "      <td>8841186448183</td>\n",
              "      <td>5642494</td>\n",
              "      <td>0</td>\n",
              "      <td>2016-04-29T16:07:23Z</td>\n",
              "      <td>2016-04-29T00:00:00Z</td>\n",
              "      <td>56</td>\n",
              "      <td>JARDIM DA PENHA</td>\n",
              "      <td>0</td>\n",
              "      <td>1</td>\n",
              "      <td>1</td>\n",
              "      <td>0</td>\n",
              "      <td>0</td>\n",
              "      <td>0</td>\n",
              "      <td>0</td>\n",
              "      <td>2016-04-29</td>\n",
              "      <td>4</td>\n",
              "      <td>29</td>\n",
              "      <td>4</td>\n",
              "      <td>2016-04-29 16:07:23</td>\n",
              "      <td>4</td>\n",
              "      <td>29</td>\n",
              "      <td>4</td>\n",
              "      <td>0</td>\n",
              "    </tr>\n",
              "    <tr>\n",
              "      <th>5</th>\n",
              "      <td>95985133231274</td>\n",
              "      <td>5626772</td>\n",
              "      <td>0</td>\n",
              "      <td>2016-04-27T08:36:51Z</td>\n",
              "      <td>2016-04-29T00:00:00Z</td>\n",
              "      <td>76</td>\n",
              "      <td>REPÚBLICA</td>\n",
              "      <td>0</td>\n",
              "      <td>1</td>\n",
              "      <td>0</td>\n",
              "      <td>0</td>\n",
              "      <td>0</td>\n",
              "      <td>0</td>\n",
              "      <td>0</td>\n",
              "      <td>2016-04-29</td>\n",
              "      <td>4</td>\n",
              "      <td>29</td>\n",
              "      <td>4</td>\n",
              "      <td>2016-04-27 08:36:51</td>\n",
              "      <td>4</td>\n",
              "      <td>27</td>\n",
              "      <td>2</td>\n",
              "      <td>0</td>\n",
              "    </tr>\n",
              "    <tr>\n",
              "      <th>6</th>\n",
              "      <td>733688164476661</td>\n",
              "      <td>5630279</td>\n",
              "      <td>0</td>\n",
              "      <td>2016-04-27T15:05:12Z</td>\n",
              "      <td>2016-04-29T00:00:00Z</td>\n",
              "      <td>23</td>\n",
              "      <td>GOIABEIRAS</td>\n",
              "      <td>0</td>\n",
              "      <td>0</td>\n",
              "      <td>0</td>\n",
              "      <td>0</td>\n",
              "      <td>0</td>\n",
              "      <td>0</td>\n",
              "      <td>1</td>\n",
              "      <td>2016-04-29</td>\n",
              "      <td>4</td>\n",
              "      <td>29</td>\n",
              "      <td>4</td>\n",
              "      <td>2016-04-27 15:05:12</td>\n",
              "      <td>4</td>\n",
              "      <td>27</td>\n",
              "      <td>2</td>\n",
              "      <td>1</td>\n",
              "    </tr>\n",
              "    <tr>\n",
              "      <th>7</th>\n",
              "      <td>3449833394123</td>\n",
              "      <td>5630575</td>\n",
              "      <td>0</td>\n",
              "      <td>2016-04-27T15:39:58Z</td>\n",
              "      <td>2016-04-29T00:00:00Z</td>\n",
              "      <td>39</td>\n",
              "      <td>GOIABEIRAS</td>\n",
              "      <td>0</td>\n",
              "      <td>0</td>\n",
              "      <td>0</td>\n",
              "      <td>0</td>\n",
              "      <td>0</td>\n",
              "      <td>0</td>\n",
              "      <td>1</td>\n",
              "      <td>2016-04-29</td>\n",
              "      <td>4</td>\n",
              "      <td>29</td>\n",
              "      <td>4</td>\n",
              "      <td>2016-04-27 15:39:58</td>\n",
              "      <td>4</td>\n",
              "      <td>27</td>\n",
              "      <td>2</td>\n",
              "      <td>1</td>\n",
              "    </tr>\n",
              "    <tr>\n",
              "      <th>8</th>\n",
              "      <td>56394729949972</td>\n",
              "      <td>5638447</td>\n",
              "      <td>0</td>\n",
              "      <td>2016-04-29T08:02:16Z</td>\n",
              "      <td>2016-04-29T00:00:00Z</td>\n",
              "      <td>21</td>\n",
              "      <td>ANDORINHAS</td>\n",
              "      <td>0</td>\n",
              "      <td>0</td>\n",
              "      <td>0</td>\n",
              "      <td>0</td>\n",
              "      <td>0</td>\n",
              "      <td>0</td>\n",
              "      <td>0</td>\n",
              "      <td>2016-04-29</td>\n",
              "      <td>4</td>\n",
              "      <td>29</td>\n",
              "      <td>4</td>\n",
              "      <td>2016-04-29 08:02:16</td>\n",
              "      <td>4</td>\n",
              "      <td>29</td>\n",
              "      <td>4</td>\n",
              "      <td>0</td>\n",
              "    </tr>\n",
              "    <tr>\n",
              "      <th>9</th>\n",
              "      <td>78124564369297</td>\n",
              "      <td>5629123</td>\n",
              "      <td>0</td>\n",
              "      <td>2016-04-27T12:48:25Z</td>\n",
              "      <td>2016-04-29T00:00:00Z</td>\n",
              "      <td>19</td>\n",
              "      <td>CONQUISTA</td>\n",
              "      <td>0</td>\n",
              "      <td>0</td>\n",
              "      <td>0</td>\n",
              "      <td>0</td>\n",
              "      <td>0</td>\n",
              "      <td>0</td>\n",
              "      <td>0</td>\n",
              "      <td>2016-04-29</td>\n",
              "      <td>4</td>\n",
              "      <td>29</td>\n",
              "      <td>4</td>\n",
              "      <td>2016-04-27 12:48:25</td>\n",
              "      <td>4</td>\n",
              "      <td>27</td>\n",
              "      <td>2</td>\n",
              "      <td>0</td>\n",
              "    </tr>\n",
              "  </tbody>\n",
              "</table>\n",
              "</div>"
            ],
            "text/plain": [
              "         PatientID  AppointmentID  ...  ScheduledDay_Weekday Num_App_Missed\n",
              "0   29872499824296        5642903  ...                     4              0\n",
              "1  558997776694438        5642503  ...                     4              0\n",
              "2    4262962299951        5642549  ...                     4              0\n",
              "3     867951213174        5642828  ...                     4              0\n",
              "4    8841186448183        5642494  ...                     4              0\n",
              "5   95985133231274        5626772  ...                     2              0\n",
              "6  733688164476661        5630279  ...                     2              1\n",
              "7    3449833394123        5630575  ...                     2              1\n",
              "8   56394729949972        5638447  ...                     4              0\n",
              "9   78124564369297        5629123  ...                     2              0\n",
              "\n",
              "[10 rows x 23 columns]"
            ]
          },
          "metadata": {
            "tags": []
          },
          "execution_count": 6
        }
      ]
    },
    {
      "cell_type": "code",
      "metadata": {
        "id": "4QNfoLPZ3pbQ",
        "colab_type": "code",
        "outputId": "3191f46f-6e1f-43fe-bc8f-e7cf5f4b1824",
        "colab": {
          "base_uri": "https://localhost:8080/",
          "height": 221
        }
      },
      "source": [
        "data['Neighbourhood'].value_counts()"
      ],
      "execution_count": 7,
      "outputs": [
        {
          "output_type": "execute_result",
          "data": {
            "text/plain": [
              "JARDIM CAMBURI                 7717\n",
              "MARIA ORTIZ                    5804\n",
              "RESISTÊNCIA                    4431\n",
              "JARDIM DA PENHA                3877\n",
              "ITARARÉ                        3514\n",
              "                               ... \n",
              "ILHA DO BOI                      35\n",
              "ILHA DO FRADE                    10\n",
              "AEROPORTO                         8\n",
              "ILHAS OCEÂNICAS DE TRINDADE       2\n",
              "PARQUE INDUSTRIAL                 1\n",
              "Name: Neighbourhood, Length: 81, dtype: int64"
            ]
          },
          "metadata": {
            "tags": []
          },
          "execution_count": 7
        }
      ]
    },
    {
      "cell_type": "code",
      "metadata": {
        "id": "ci1kc7qwdpRn",
        "colab_type": "code",
        "outputId": "ae59baaf-2d71-4984-c5e1-42ff7adb335f",
        "colab": {
          "base_uri": "https://localhost:8080/",
          "height": 425
        }
      },
      "source": [
        "data.drop(['ScheduledDay','AppointmentDay','Modified_AppointmentDay', 'Modified_ScheduledDay'], axis=1, inplace = True)\n",
        "data.info()"
      ],
      "execution_count": 8,
      "outputs": [
        {
          "output_type": "stream",
          "text": [
            "<class 'pandas.core.frame.DataFrame'>\n",
            "Int64Index: 110515 entries, 0 to 110526\n",
            "Data columns (total 19 columns):\n",
            "PatientID                 110515 non-null int64\n",
            "AppointmentID             110515 non-null int64\n",
            "Gender                    110515 non-null int64\n",
            "Age                       110515 non-null int64\n",
            "Neighbourhood             110515 non-null object\n",
            "Scholarship               110515 non-null int64\n",
            "Hypertension              110515 non-null int64\n",
            "Diabetes                  110515 non-null int64\n",
            "Alcoholism                110515 non-null int64\n",
            "Handicap                  110515 non-null int64\n",
            "SMS_received              110515 non-null int64\n",
            "No-show                   110515 non-null int64\n",
            "AppointmentDay_Month      110515 non-null int64\n",
            "AppointmentDay_Day        110515 non-null int64\n",
            "AppointmentDay_Weekday    110515 non-null int64\n",
            "ScheduledDay_Month        110515 non-null int64\n",
            "ScheduledDay_Day          110515 non-null int64\n",
            "ScheduledDay_Weekday      110515 non-null int64\n",
            "Num_App_Missed            110515 non-null int64\n",
            "dtypes: int64(18), object(1)\n",
            "memory usage: 16.9+ MB\n"
          ],
          "name": "stdout"
        }
      ]
    },
    {
      "cell_type": "markdown",
      "metadata": {
        "id": "HXCyEzDkc-9u",
        "colab_type": "text"
      },
      "source": [
        " \n",
        " > just drop the \"No-show\" as it is the target"
      ]
    },
    {
      "cell_type": "code",
      "metadata": {
        "id": "SszUO_Ynz4Vp",
        "colab_type": "code",
        "outputId": "fd03e6ea-899a-4669-ade0-0a61fa486f9b",
        "colab": {
          "base_uri": "https://localhost:8080/",
          "height": 51
        }
      },
      "source": [
        "for column in data.columns:\n",
        "    if data[column].dtype == type(object):\n",
        "        le = LabelEncoder()\n",
        "        data[column] = le.fit_transform(data[column])\n",
        "\n",
        "X, y = data.drop(['No-show'],axis=1), data['No-show'] \n",
        "\n",
        "#scale the data from 0-1. This works better for guassian kernels\n",
        "scaler = StandardScaler().fit(X)\n",
        "rescaledX2 = scaler.transform(X)\n",
        "\n",
        "X_train, X_test, y_train, y_test = train_test_split(rescaledX2, y, test_size=0.2, random_state=42)\n",
        "# X_train, y_train = np.array(X_train), np.array(y_train) \n",
        "\n",
        "print (\"Rows: \", data.shape[0])\n",
        "print (\"Columns: \", data.shape[1])"
      ],
      "execution_count": 9,
      "outputs": [
        {
          "output_type": "stream",
          "text": [
            "Rows:  110515\n",
            "Columns:  19\n"
          ],
          "name": "stdout"
        }
      ]
    },
    {
      "cell_type": "markdown",
      "metadata": {
        "id": "FI3hkmvaz4tj",
        "colab_type": "text"
      },
      "source": [
        "## Choose the best algorithm for classification"
      ]
    },
    {
      "cell_type": "markdown",
      "metadata": {
        "id": "As55cghnezKy",
        "colab_type": "text"
      },
      "source": [
        "\n",
        "**Algorithms Tested** \n",
        "> 1.   Logistic regression\n",
        "2.   Decision trees\n",
        "1.   Random forest\n",
        "1.   Support Vector Machines\n",
        "1.   k-nearest neighbours\n",
        "1.   Neural Networks\n",
        "\n",
        "\n",
        "\n",
        "\n",
        "\n",
        "\n"
      ]
    },
    {
      "cell_type": "markdown",
      "metadata": {
        "id": "fwgYuHihhLXG",
        "colab_type": "text"
      },
      "source": [
        "\n",
        "> * **Logistic Regression**\n",
        "\n",
        "\n",
        "\n"
      ]
    },
    {
      "cell_type": "code",
      "metadata": {
        "id": "onlYv8QEz40p",
        "colab_type": "code",
        "outputId": "2d51ff90-0e43-4244-8aa5-ebea1f527958",
        "colab": {
          "base_uri": "https://localhost:8080/",
          "height": 187
        }
      },
      "source": [
        "from sklearn.linear_model import LogisticRegression\n",
        "\n",
        "LGclassifier = LogisticRegression()\n",
        "LGclassifier.fit(X_train, y_train)\n",
        "LG_y_pred = LGclassifier.predict(X_test)\n",
        "print(LG_y_pred)\n",
        "LG_probs = LGclassifier.predict_proba(X_test)\n",
        "LG_probs = LG_probs[:, 1]\n",
        "\n",
        "accuracy_LR = accuracy_score(y_test, LG_y_pred) * 100\n",
        "print('LogisticRegression - Accuracy: {:2.2f}%'.format(accuracy_LR))\n",
        "\n",
        "score = cross_val_score(LGclassifier, X_train, y_train, cv = 10, scoring= 'accuracy')\n",
        "print(score)\n",
        "\n",
        "confusion = confusion_matrix(y_test, LG_y_pred)\n",
        "TP = confusion[1, 1]\n",
        "TN = confusion[0, 0]\n",
        "FP = confusion[0, 1]\n",
        "FN = confusion[1, 0]\n",
        "\n",
        "print(confusion)\n",
        "\n",
        "#Specificity: When the actual value is negative, how often is the prediction correct?\n",
        "print(\"Specificity:\",TN / float(TN + FP))\n",
        "\n",
        "#False Positive Rate: When the actual value is negative, how often is the prediction incorrect?\n",
        "print(\"False Positive Rate:\",FP / float(TN + FP))\n",
        "\n",
        "#Precision: When a positive value is predicted, how often is the prediction correct?\n",
        "print(\"Precision:\",precision_score(y_test, LG_y_pred))\n",
        "\n",
        "#Sensitivity:\n",
        "print(\"Recall:\",recall_score(y_test, LG_y_pred))"
      ],
      "execution_count": 10,
      "outputs": [
        {
          "output_type": "stream",
          "text": [
            "[0 0 0 ... 0 0 0]\n",
            "LogisticRegression - Accuracy: 87.54%\n",
            "[0.87242705 0.87627234 0.87659767 0.86766203 0.87852053 0.87071598\n",
            " 0.87546658 0.86947178 0.87546658 0.87196019]\n",
            "[[16878   786]\n",
            " [ 1968  2471]]\n",
            "Specificity: 0.9555027173913043\n",
            "False Positive Rate: 0.044497282608695655\n",
            "Precision: 0.7586736260362297\n",
            "Recall: 0.5566569047082677\n"
          ],
          "name": "stdout"
        }
      ]
    },
    {
      "cell_type": "markdown",
      "metadata": {
        "id": "I8dkDcq6hacU",
        "colab_type": "text"
      },
      "source": [
        "> * **Decision trees**"
      ]
    },
    {
      "cell_type": "code",
      "metadata": {
        "id": "DttPsbEChaqE",
        "colab_type": "code",
        "outputId": "109add4a-03f2-436f-bbd1-ae4b94c55001",
        "colab": {
          "base_uri": "https://localhost:8080/",
          "height": 187
        }
      },
      "source": [
        "from sklearn.tree import DecisionTreeClassifier\n",
        "\n",
        "DTclassifier= DecisionTreeClassifier(max_depth=100, random_state=0)\n",
        "DTclassifier.fit(X_train, y_train)\n",
        "y_pred = DTclassifier.predict(X_test)\n",
        "print(y_pred)\n",
        "\n",
        "DT_probs = DTclassifier.predict_proba(X_test)\n",
        "DT_probs = DT_probs[:, 1]\n",
        "\n",
        "accuracy_LR = accuracy_score(y_test, y_pred) * 100\n",
        "print('DecisionTree - Accuracy: {:2.2f}%'.format(accuracy_LR))\n",
        "\n",
        "score = cross_val_score(DTclassifier, X_train, y_train, cv = 10, scoring= 'accuracy')\n",
        "print(score)\n",
        "\n",
        "confusion = confusion_matrix(y_test, y_pred)\n",
        "TP = confusion[1, 1]\n",
        "TN = confusion[0, 0]\n",
        "FP = confusion[0, 1]\n",
        "FN = confusion[1, 0]\n",
        "\n",
        "print(confusion)\n",
        "\n",
        "#Specificity: When the actual value is negative, how often is the prediction correct?\n",
        "print(\"Specificity:\",TN / float(TN + FP))\n",
        "\n",
        "#False Positive Rate: When the actual value is negative, how often is the prediction incorrect?\n",
        "print(\"False Positive Rate:\",FP / float(TN + FP))\n",
        "\n",
        "#Precision: When a positive value is predicted, how often is the prediction correct?\n",
        "print(\"Precision:\",precision_score(y_test, y_pred))\n",
        "\n",
        "#Sensitivity:\n",
        "print(\"Recall:\",recall_score(y_test, y_pred))"
      ],
      "execution_count": 11,
      "outputs": [
        {
          "output_type": "stream",
          "text": [
            "[0 0 0 ... 0 0 0]\n",
            "DecisionTree - Accuracy: 89.66%\n",
            "[0.89764759 0.90251074 0.90193417 0.89639181 0.90193417 0.90193417\n",
            " 0.90046375 0.89967198 0.89831467 0.8962787 ]\n",
            "[[16556  1108]\n",
            " [ 1178  3261]]\n",
            "Specificity: 0.9372735507246377\n",
            "False Positive Rate: 0.06272644927536232\n",
            "Precision: 0.7463950560769055\n",
            "Recall: 0.7346249155215139\n"
          ],
          "name": "stdout"
        }
      ]
    },
    {
      "cell_type": "markdown",
      "metadata": {
        "id": "NjnF1Gkzhazy",
        "colab_type": "text"
      },
      "source": [
        "> * **Random forest**"
      ]
    },
    {
      "cell_type": "code",
      "metadata": {
        "id": "r82ge0W8ha8H",
        "colab_type": "code",
        "outputId": "f922f913-6f54-45f8-bf28-cbdee6704ec4",
        "colab": {
          "base_uri": "https://localhost:8080/",
          "height": 187
        }
      },
      "source": [
        "from sklearn.ensemble import RandomForestClassifier\n",
        "\n",
        "RFclassifier = RandomForestClassifier(n_estimators=100,max_depth=100,min_samples_split=50,min_samples_leaf=100)\n",
        "RFclassifier.fit(X_train, y_train)\n",
        "y_pred=RFclassifier.predict(X_test)\n",
        "print(y_pred)\n",
        "RF_probs = RFclassifier.predict_proba(X_test)\n",
        "RF_probs = RF_probs[:, 1]\n",
        "\n",
        "accuracy_RF = accuracy_score(y_test, y_pred) * 100\n",
        "print('RandomForest - Accuracy: {:2.2f}%'.format(accuracy_RF))\n",
        "# print('RandomForest - Precision: {:2.2f}%'.format(precision_score(y_test, label)*100))\n",
        "# print('RandomForest - Recall: {:2.2f}%'.format(recall_score(y_test, label)*100))\n",
        "# print('RandomForest - F1: {:2.2f}%'.format(f1_score(y_test, label) * 100))\n",
        "\n",
        "\n",
        "score = cross_val_score(RFclassifier, X_train,y_train, cv = 10, scoring= 'accuracy')\n",
        "print(score)\n",
        "\n",
        "confusion = confusion_matrix(y_test, y_pred)\n",
        "TP = confusion[1, 1]\n",
        "TN = confusion[0, 0]\n",
        "FP = confusion[0, 1]\n",
        "FN = confusion[1, 0]\n",
        "print(confusion)\n",
        "\n",
        "#Specificity: When the actual value is negative, how often is the prediction correct?\n",
        "print(\"Specificity:\",TN / float(TN + FP))\n",
        "\n",
        "#False Positive Rate: When the actual value is negative, how often is the prediction incorrect?\n",
        "print(\"False Positive Rate:\",FP / float(TN + FP))\n",
        "\n",
        "#Precision: When a positive value is predicted, how often is the prediction correct?\n",
        "print(\"Precision:\", precision_score(y_test, y_pred))\n",
        "\n",
        "#Sensitivity:\n",
        "print(\"Recall:\", recall_score(y_test, y_pred))"
      ],
      "execution_count": 12,
      "outputs": [
        {
          "output_type": "stream",
          "text": [
            "[0 0 0 ... 0 0 0]\n",
            "RandomForest - Accuracy: 91.63%\n",
            "[0.92218955 0.92151097 0.91810881 0.91414998 0.92297251 0.92127587\n",
            " 0.92580025 0.91539419 0.91754326 0.92308562]\n",
            "[[16394  1270]\n",
            " [  581  3858]]\n",
            "Specificity: 0.9281023550724637\n",
            "False Positive Rate: 0.07189764492753623\n",
            "Precision: 0.7523400936037441\n",
            "Recall: 0.8691146654651949\n"
          ],
          "name": "stdout"
        }
      ]
    },
    {
      "cell_type": "markdown",
      "metadata": {
        "id": "owVmrVlHmyFa",
        "colab_type": "text"
      },
      "source": [
        "> * **Support Vector Machines: linear**"
      ]
    },
    {
      "cell_type": "code",
      "metadata": {
        "id": "xJBtkCGbm31M",
        "colab_type": "code",
        "colab": {
          "base_uri": "https://localhost:8080/",
          "height": 153
        },
        "outputId": "835b8dd3-f0ef-4f53-c229-2eb82e72870e"
      },
      "source": [
        "from sklearn import svm\n",
        "\n",
        "SVMclassifier = svm.SVC(kernel='linear', probability=True) # Linear Kernel\n",
        "#SVMclassifier = svm.SVC(kernel='poly', degree=3, probability=True) #polynomial kernel of degree 8\n",
        "#SVMclassifier = svm.SVC(kernel='rbf', gamma=0.001) # rbf kernel\n",
        "SVMclassifier.fit(X_train, y_train)\n",
        "y_pred = SVMclassifier.predict(X_test)\n",
        "print(y_pred)\n",
        "\n",
        "SVM_probs_linear = SVMclassifier.predict_proba(X_test)\n",
        "SVM_probs_linear = SVM_probs_linear[:, 1]\n",
        "\n",
        "accuracy_SVM = accuracy_score(y_test, y_pred) * 100\n",
        "print('SupportVectorMachine - Accuracy: {:2.2f}%'.format(accuracy_SVM))\n",
        "# print('RandomForest - Precision: {:2.2f}%'.format(precision_score(y_test, label)*100))\n",
        "# print('RandomForest - Recall: {:2.2f}%'.format(recall_score(y_test, label)*100))\n",
        "# print('RandomForest - F1: {:2.2f}%'.format(f1_score(y_test, label) * 100))\n",
        "\n",
        "\n",
        "# score = cross_val_score(SVMclassifier, X_train,y_train, cv = 10, scoring= 'accuracy')\n",
        "# print(score)\n",
        "\n",
        "confusion = confusion_matrix(y_test, y_pred)\n",
        "TP = confusion[1, 1]\n",
        "TN = confusion[0, 0]\n",
        "FP = confusion[0, 1]\n",
        "FN = confusion[1, 0]\n",
        "print(confusion)\n",
        "\n",
        "#Specificity: When the actual value is negative, how often is the prediction correct?\n",
        "print(\"Specificity:\",TN / float(TN + FP))\n",
        "\n",
        "#False Positive Rate: When the actual value is negative, how often is the prediction incorrect?\n",
        "print(\"False Positive Rate:\",FP / float(TN + FP))\n",
        "\n",
        "#Precision: When a positive value is predicted, how often is the prediction correct?\n",
        "print(\"Precision:\", precision_score(y_test, y_pred))\n",
        "\n",
        "#Sensitivity:\n",
        "print(\"Recall:\", recall_score(y_test, y_pred))"
      ],
      "execution_count": 14,
      "outputs": [
        {
          "output_type": "stream",
          "text": [
            "[0 0 0 ... 0 0 0]\n",
            "SupportVectorMachine - Accuracy: 89.58%\n",
            "[[15365  2299]\n",
            " [    5  4434]]\n",
            "Specificity: 0.8698482789855072\n",
            "False Positive Rate: 0.13015172101449277\n",
            "Precision: 0.6585474528442002\n",
            "Recall: 0.9988736201847263\n"
          ],
          "name": "stdout"
        }
      ]
    },
    {
      "cell_type": "markdown",
      "metadata": {
        "id": "_7ld0fH_hdbM",
        "colab_type": "text"
      },
      "source": [
        "> * **Support Vector Machines: Poynomial - degree 3**"
      ]
    },
    {
      "cell_type": "code",
      "metadata": {
        "id": "wSUquJX_hdkS",
        "colab_type": "code",
        "colab": {
          "base_uri": "https://localhost:8080/",
          "height": 153
        },
        "outputId": "4cef6143-67e2-4e96-cf0e-fc5407371d86"
      },
      "source": [
        "from sklearn import svm\n",
        "\n",
        "#SVMclassifier = svm.SVC(kernel='linear') # Linear Kernel\n",
        "SVMclassifier = svm.SVC(kernel='poly', degree=3, probability=True) #polynomial kernel of degree 8\n",
        "#SVMclassifier = svm.SVC(kernel='rbf', gamma=0.001) # rbf kernel\n",
        "SVMclassifier.fit(X_train, y_train)\n",
        "y_pred = SVMclassifier.predict(X_test)\n",
        "print(y_pred)\n",
        "\n",
        "SVM_probs = SVMclassifier.predict_proba(X_test)\n",
        "SVM_probs = SVM_probs[:, 1]\n",
        "\n",
        "accuracy_SVM = accuracy_score(y_test, y_pred) * 100\n",
        "print('SupportVectorMachine - Accuracy: {:2.2f}%'.format(accuracy_SVM))\n",
        "# print('RandomForest - Precision: {:2.2f}%'.format(precision_score(y_test, label)*100))\n",
        "# print('RandomForest - Recall: {:2.2f}%'.format(recall_score(y_test, label)*100))\n",
        "# print('RandomForest - F1: {:2.2f}%'.format(f1_score(y_test, label) * 100))\n",
        "\n",
        "\n",
        "# score = cross_val_score(SVMclassifier, X_train,y_train, cv = 10, scoring= 'accuracy')\n",
        "# print(score)\n",
        "\n",
        "confusion = confusion_matrix(y_test, y_pred)\n",
        "TP = confusion[1, 1]\n",
        "TN = confusion[0, 0]\n",
        "FP = confusion[0, 1]\n",
        "FN = confusion[1, 0]\n",
        "print(confusion)\n",
        "\n",
        "#Specificity: When the actual value is negative, how often is the prediction correct?\n",
        "print(\"Specificity:\",TN / float(TN + FP))\n",
        "\n",
        "#False Positive Rate: When the actual value is negative, how often is the prediction incorrect?\n",
        "print(\"False Positive Rate:\",FP / float(TN + FP))\n",
        "\n",
        "#Precision: When a positive value is predicted, how often is the prediction correct?\n",
        "print(\"Precision:\", precision_score(y_test, y_pred))\n",
        "\n",
        "#Sensitivity:\n",
        "print(\"Recall:\", recall_score(y_test, y_pred))"
      ],
      "execution_count": 15,
      "outputs": [
        {
          "output_type": "stream",
          "text": [
            "[0 0 0 ... 0 0 0]\n",
            "SupportVectorMachine - Accuracy: 90.50%\n",
            "[[16486  1178]\n",
            " [  921  3518]]\n",
            "Specificity: 0.9333106884057971\n",
            "False Positive Rate: 0.0666893115942029\n",
            "Precision: 0.7491482112436116\n",
            "Recall: 0.7925208380265826\n"
          ],
          "name": "stdout"
        }
      ]
    },
    {
      "cell_type": "markdown",
      "metadata": {
        "id": "bMuhAa4sLSqk",
        "colab_type": "text"
      },
      "source": [
        "> * **K Nearest Neighbours**"
      ]
    },
    {
      "cell_type": "code",
      "metadata": {
        "id": "iZsW0kwoLSy9",
        "colab_type": "code",
        "outputId": "27b30759-bb23-47a0-fd99-3f566b6e71ae",
        "colab": {
          "base_uri": "https://localhost:8080/",
          "height": 187
        }
      },
      "source": [
        "from sklearn.neighbors import KNeighborsClassifier\n",
        "\n",
        "KNNclassifier = KNeighborsClassifier(n_neighbors=24)\n",
        "KNNclassifier.fit(X_train, y_train)\n",
        "y_pred=KNNclassifier.predict(X_test)\n",
        "print(y_pred)\n",
        "KNN_probs = KNNclassifier.predict_proba(X_test)\n",
        "KNN_probs = KNN_probs[:, 1]\n",
        "\n",
        "accuracy_KNN = accuracy_score(y_test, y_pred) * 100\n",
        "print('k-nearestNeighbors - Accuracy: {:2.2f}%'.format(accuracy_KNN))\n",
        "# print('RandomForest - Precision: {:2.2f}%'.format(precision_score(y_test, label)*100))\n",
        "# print('RandomForest - Recall: {:2.2f}%'.format(recall_score(y_test, label)*100))\n",
        "# print('RandomForest - F1: {:2.2f}%'.format(f1_score(y_test, label) * 100))\n",
        "\n",
        "\n",
        "score = cross_val_score(KNNclassifier, X_train,y_train, cv = 10, scoring= 'accuracy')\n",
        "print(score)\n",
        "\n",
        "confusion = confusion_matrix(y_test, y_pred)\n",
        "TP = confusion[1, 1]\n",
        "TN = confusion[0, 0]\n",
        "FP = confusion[0, 1]\n",
        "FN = confusion[1, 0]\n",
        "print(confusion)\n",
        "\n",
        "#Specificity: When the actual value is negative, how often is the prediction correct?\n",
        "print(\"Specificity:\",TN / float(TN + FP))\n",
        "\n",
        "#False Positive Rate: When the actual value is negative, how often is the prediction incorrect?\n",
        "print(\"False Positive Rate:\",FP / float(TN + FP))\n",
        "\n",
        "#Precision: When a positive value is predicted, how often is the prediction correct?\n",
        "print(\"Precision:\", precision_score(y_test, y_pred))\n",
        "\n",
        "#Sensitivity:\n",
        "print(\"Recall:\", recall_score(y_test, y_pred))"
      ],
      "execution_count": 16,
      "outputs": [
        {
          "output_type": "stream",
          "text": [
            "[0 0 0 ... 0 0 0]\n",
            "k-nearestNeighbors - Accuracy: 88.45%\n",
            "[0.8806831  0.88351052 0.8781812  0.87162086 0.88598575 0.88214003\n",
            " 0.88858726 0.87557969 0.8818007  0.88281869]\n",
            "[[16882   782]\n",
            " [ 1770  2669]]\n",
            "Specificity: 0.9557291666666666\n",
            "False Positive Rate: 0.044270833333333336\n",
            "Precision: 0.7733990147783252\n",
            "Recall: 0.6012615453931065\n"
          ],
          "name": "stdout"
        }
      ]
    },
    {
      "cell_type": "markdown",
      "metadata": {
        "id": "tdqOeBrkh24x",
        "colab_type": "text"
      },
      "source": [
        "> * **Neural Networks**\n",
        "\n",
        "\n"
      ]
    },
    {
      "cell_type": "code",
      "metadata": {
        "id": "t_weSAn3h2_b",
        "colab_type": "code",
        "colab": {
          "base_uri": "https://localhost:8080/",
          "height": 391
        },
        "outputId": "e8137ea9-f447-4219-e12e-f78e61aadca5"
      },
      "source": [
        "NNclassifier = Sequential()\n",
        "NNclassifier.add(Dense(units = 64, activation = 'relu', input_dim = 18))\n",
        "NNclassifier.add(Dropout(rate = 0.5))\n",
        "NNclassifier.add(Dense(units = 128, activation = 'relu'))\n",
        "NNclassifier.add(Dropout(rate = 0.5))\n",
        "NNclassifier.add(Dense(units = 128, activation = 'relu'))\n",
        "NNclassifier.add(Dropout(rate = 0.5))\n",
        "#NNclassifier.add(Dense(units = 1, activation = 'softmax'))\n",
        "NNclassifier.add(Dense(units = 1, activation = 'sigmoid'))\n",
        "#NNclassifier.compile(optimizer = 'adam', loss = 'binary_crossentropy', metrics = ['accuracy'])\n",
        "NNclassifier.compile(optimizer = 'adam', loss = 'mean_squared_error', metrics = ['accuracy'])\n",
        "NNclassifier.summary()"
      ],
      "execution_count": 19,
      "outputs": [
        {
          "output_type": "stream",
          "text": [
            "Model: \"sequential_2\"\n",
            "_________________________________________________________________\n",
            "Layer (type)                 Output Shape              Param #   \n",
            "=================================================================\n",
            "dense_5 (Dense)              (None, 64)                1216      \n",
            "_________________________________________________________________\n",
            "dropout_4 (Dropout)          (None, 64)                0         \n",
            "_________________________________________________________________\n",
            "dense_6 (Dense)              (None, 128)               8320      \n",
            "_________________________________________________________________\n",
            "dropout_5 (Dropout)          (None, 128)               0         \n",
            "_________________________________________________________________\n",
            "dense_7 (Dense)              (None, 128)               16512     \n",
            "_________________________________________________________________\n",
            "dropout_6 (Dropout)          (None, 128)               0         \n",
            "_________________________________________________________________\n",
            "dense_8 (Dense)              (None, 1)                 129       \n",
            "=================================================================\n",
            "Total params: 26,177\n",
            "Trainable params: 26,177\n",
            "Non-trainable params: 0\n",
            "_________________________________________________________________\n"
          ],
          "name": "stdout"
        }
      ]
    },
    {
      "cell_type": "code",
      "metadata": {
        "id": "u_zW7GTqq0g2",
        "colab_type": "code",
        "colab": {
          "base_uri": "https://localhost:8080/",
          "height": 1000
        },
        "outputId": "018400f0-3550-47ff-e93c-916f596b521b"
      },
      "source": [
        "NNclassifier.fit(X_train, y_train, epochs = 20, validation_split=0.2)\n",
        "NN_y_pred = NNclassifier.predict(X_test)\n",
        "print(y_pred)\n",
        "NN_y_classes = NNclassifier.predict_classes(X_test)\n",
        "\n",
        "\n",
        "confusion = confusion_matrix(y_test, NN_y_classes)\n",
        "TP = confusion[1, 1]\n",
        "TN = confusion[0, 0]\n",
        "FP = confusion[0, 1]\n",
        "FN = confusion[1, 0]\n",
        "print(confusion)\n",
        "\n",
        "#Specificity: When the actual value is negative, how often is the prediction correct?\n",
        "print(\"Specificity:\",TN / float(TN + FP))\n",
        "\n",
        "#False Positive Rate: When the actual value is negative, how often is the prediction incorrect?\n",
        "print(\"False Positive Rate:\",FP / float(TN + FP))\n",
        "\n",
        "#Precision: When a positive value is predicted, how often is the prediction correct?\n",
        "print(\"Precision:\", precision_score(y_test, NN_y_classes))\n",
        "\n",
        "#Sensitivity:\n",
        "print(\"Recall:\", recall_score(y_test, NN_y_classes))\n",
        "\n",
        "# NN_probs = NNclassifier.predict_proba(X_test)\n",
        "# NN_probs = NN_probs[:, 1]"
      ],
      "execution_count": 20,
      "outputs": [
        {
          "output_type": "stream",
          "text": [
            "WARNING:tensorflow:From /usr/local/lib/python3.6/dist-packages/keras/backend/tensorflow_backend.py:1033: The name tf.assign_add is deprecated. Please use tf.compat.v1.assign_add instead.\n",
            "\n",
            "WARNING:tensorflow:From /usr/local/lib/python3.6/dist-packages/keras/backend/tensorflow_backend.py:1020: The name tf.assign is deprecated. Please use tf.compat.v1.assign instead.\n",
            "\n",
            "WARNING:tensorflow:From /usr/local/lib/python3.6/dist-packages/keras/backend/tensorflow_backend.py:3005: The name tf.Session is deprecated. Please use tf.compat.v1.Session instead.\n",
            "\n",
            "Train on 70729 samples, validate on 17683 samples\n",
            "Epoch 1/20\n",
            "WARNING:tensorflow:From /usr/local/lib/python3.6/dist-packages/keras/backend/tensorflow_backend.py:190: The name tf.get_default_session is deprecated. Please use tf.compat.v1.get_default_session instead.\n",
            "\n",
            "WARNING:tensorflow:From /usr/local/lib/python3.6/dist-packages/keras/backend/tensorflow_backend.py:197: The name tf.ConfigProto is deprecated. Please use tf.compat.v1.ConfigProto instead.\n",
            "\n",
            "WARNING:tensorflow:From /usr/local/lib/python3.6/dist-packages/keras/backend/tensorflow_backend.py:207: The name tf.global_variables is deprecated. Please use tf.compat.v1.global_variables instead.\n",
            "\n",
            "WARNING:tensorflow:From /usr/local/lib/python3.6/dist-packages/keras/backend/tensorflow_backend.py:216: The name tf.is_variable_initialized is deprecated. Please use tf.compat.v1.is_variable_initialized instead.\n",
            "\n",
            "WARNING:tensorflow:From /usr/local/lib/python3.6/dist-packages/keras/backend/tensorflow_backend.py:223: The name tf.variables_initializer is deprecated. Please use tf.compat.v1.variables_initializer instead.\n",
            "\n",
            "70729/70729 [==============================] - 5s 71us/step - loss: 0.0768 - acc: 0.8862 - val_loss: 0.0593 - val_acc: 0.9099\n",
            "Epoch 2/20\n",
            "70729/70729 [==============================] - 4s 59us/step - loss: 0.0613 - acc: 0.9058 - val_loss: 0.0578 - val_acc: 0.9147\n",
            "Epoch 3/20\n",
            "70729/70729 [==============================] - 4s 60us/step - loss: 0.0595 - acc: 0.9098 - val_loss: 0.0559 - val_acc: 0.9192\n",
            "Epoch 4/20\n",
            "70729/70729 [==============================] - 4s 60us/step - loss: 0.0579 - acc: 0.9164 - val_loss: 0.0548 - val_acc: 0.9222\n",
            "Epoch 5/20\n",
            "70729/70729 [==============================] - 4s 60us/step - loss: 0.0569 - acc: 0.9174 - val_loss: 0.0540 - val_acc: 0.9238\n",
            "Epoch 6/20\n",
            "70729/70729 [==============================] - 4s 59us/step - loss: 0.0563 - acc: 0.9204 - val_loss: 0.0540 - val_acc: 0.9241\n",
            "Epoch 7/20\n",
            "70729/70729 [==============================] - 4s 59us/step - loss: 0.0559 - acc: 0.9214 - val_loss: 0.0544 - val_acc: 0.9256\n",
            "Epoch 8/20\n",
            "70729/70729 [==============================] - 4s 59us/step - loss: 0.0562 - acc: 0.9209 - val_loss: 0.0538 - val_acc: 0.9262\n",
            "Epoch 9/20\n",
            "70729/70729 [==============================] - 4s 60us/step - loss: 0.0558 - acc: 0.9218 - val_loss: 0.0537 - val_acc: 0.9256\n",
            "Epoch 10/20\n",
            "70729/70729 [==============================] - 4s 59us/step - loss: 0.0558 - acc: 0.9219 - val_loss: 0.0538 - val_acc: 0.9254\n",
            "Epoch 11/20\n",
            "70729/70729 [==============================] - 4s 59us/step - loss: 0.0555 - acc: 0.9219 - val_loss: 0.0537 - val_acc: 0.9248\n",
            "Epoch 12/20\n",
            "70729/70729 [==============================] - 4s 60us/step - loss: 0.0554 - acc: 0.9226 - val_loss: 0.0540 - val_acc: 0.9263\n",
            "Epoch 13/20\n",
            "70729/70729 [==============================] - 4s 59us/step - loss: 0.0552 - acc: 0.9228 - val_loss: 0.0539 - val_acc: 0.9256\n",
            "Epoch 14/20\n",
            "70729/70729 [==============================] - 4s 59us/step - loss: 0.0551 - acc: 0.9226 - val_loss: 0.0537 - val_acc: 0.9258\n",
            "Epoch 15/20\n",
            "70729/70729 [==============================] - 4s 59us/step - loss: 0.0553 - acc: 0.9229 - val_loss: 0.0534 - val_acc: 0.9265\n",
            "Epoch 16/20\n",
            "70729/70729 [==============================] - 4s 59us/step - loss: 0.0553 - acc: 0.9227 - val_loss: 0.0535 - val_acc: 0.9255\n",
            "Epoch 17/20\n",
            "70729/70729 [==============================] - 4s 59us/step - loss: 0.0552 - acc: 0.9229 - val_loss: 0.0535 - val_acc: 0.9260\n",
            "Epoch 18/20\n",
            "70729/70729 [==============================] - 4s 60us/step - loss: 0.0549 - acc: 0.9233 - val_loss: 0.0535 - val_acc: 0.9259\n",
            "Epoch 19/20\n",
            "70729/70729 [==============================] - 4s 60us/step - loss: 0.0551 - acc: 0.9231 - val_loss: 0.0533 - val_acc: 0.9259\n",
            "Epoch 20/20\n",
            "70729/70729 [==============================] - 4s 60us/step - loss: 0.0549 - acc: 0.9232 - val_loss: 0.0537 - val_acc: 0.9255\n",
            "[0 0 0 ... 0 0 0]\n",
            "[[16257  1407]\n",
            " [  305  4134]]\n",
            "Specificity: 0.9203464673913043\n",
            "False Positive Rate: 0.07965353260869565\n",
            "Precision: 0.7460747157552788\n",
            "Recall: 0.9312908312683037\n"
          ],
          "name": "stdout"
        }
      ]
    },
    {
      "cell_type": "markdown",
      "metadata": {
        "id": "CM-EHd2sh-9W",
        "colab_type": "text"
      },
      "source": [
        "## Evaluate Model's performance\n",
        "\n",
        "> *   Accuracy\n",
        "*   ROC curve\n",
        "\n"
      ]
    },
    {
      "cell_type": "code",
      "metadata": {
        "id": "OOnjPYlmh_Fz",
        "colab_type": "code",
        "colab": {
          "base_uri": "https://localhost:8080/",
          "height": 398
        },
        "outputId": "c5e734d1-aa72-4323-a795-2718f2932f55"
      },
      "source": [
        "#area under curve\n",
        "LG_auc = roc_auc_score(y_test, LG_probs)\n",
        "print(\"AUC score: LG-\", LG_auc)\n",
        "DT_auc = roc_auc_score(y_test, DT_probs)\n",
        "print(\"AUC score: DT-\", DT_auc)\n",
        "RF_auc = roc_auc_score(y_test, RF_probs)\n",
        "print(\"AUC score: RF-\", RF_auc)\n",
        "SVM_linear_auc = roc_auc_score(y_test, SVM_probs_linear)\n",
        "print(\"AUC score: SVM_linear-\", SVM_linear_auc)\n",
        "SVM_auc = roc_auc_score(y_test, SVM_probs)\n",
        "print(\"AUC score: SVM-\", SVM_auc)\n",
        "KNN_auc = roc_auc_score(y_test, KNN_probs)\n",
        "print(\"AUC score: KNN-\", KNN_auc)\n",
        "NN_auc = roc_auc_score(y_test, NN_y_pred)\n",
        "print(\"AUC score: NN-\", NN_auc)\n",
        "\n",
        "\n",
        "#plot ROC curve\n",
        "LG_fpr, LG_tpr, _ = roc_curve(y_test, LG_probs)\n",
        "DT_fpr, Dt_tpr, _ = roc_curve(y_test, DT_probs)\n",
        "RF_fpr, RF_tpr, _ = roc_curve(y_test, RF_probs)\n",
        "SVM_fpr, SVM_tpr, _ = roc_curve(y_test, SVM_probs)\n",
        "SVM_lin_fpr, SVM_lin_tpr, _ = roc_curve(y_test, SVM_probs_linear)\n",
        "KNN_fpr, KNN_tpr, _ = roc_curve(y_test, KNN_probs)\n",
        "NN_fpr, NN_tpr, _ = roc_curve(y_test, NN_y_pred)\n",
        "\n",
        "plt.plot([0,1],[0,1],'r--', label='Base' )\n",
        "# plot the roc curve for the model\n",
        "plt.plot(LG_fpr, LG_tpr, 'b', label='Logistic')\n",
        "plt.plot(DT_fpr, Dt_tpr, 'b*', label='DecisionTree')\n",
        "plt.plot(RF_fpr, RF_tpr, 'b--', label='RandomForest')\n",
        "plt.plot(SVM_lin_fpr, SVM_lin_tpr, 'k--', label='SupportVectoreMachine_Linear')\n",
        "plt.plot(SVM_fpr, SVM_tpr, 'y--', label='SupportVectoreMachine')\n",
        "plt.plot(KNN_fpr, KNN_tpr, 'k', label='K-NearestNeighbour')\n",
        "plt.plot(NN_fpr, NN_tpr, 'r-', label='NeuralNetworks')\n",
        "\n",
        "# axis labels\n",
        "plt.xlabel('False Positive Rate')\n",
        "plt.ylabel('True Positive Rate')\n",
        "# show the legend\n",
        "plt.legend()\n",
        "# show the plot\n",
        "plt.show()\n"
      ],
      "execution_count": 22,
      "outputs": [
        {
          "output_type": "stream",
          "text": [
            "AUC score: LG- 0.950337414011512\n",
            "AUC score: DT- 0.8359492331230758\n",
            "AUC score: RF- 0.9667602855107561\n",
            "AUC score: SVM_linear- 0.9462420630523749\n",
            "AUC score: SVM- 0.9542040583444339\n",
            "AUC score: KNN- 0.9532404628584419\n",
            "AUC score: NN- 0.9683155556113304\n"
          ],
          "name": "stdout"
        },
        {
          "output_type": "display_data",
          "data": {
            "image/png": "[encoded data removed]",
            "text/plain": [
              "<Figure size 432x288 with 1 Axes>"
            ]
          },
          "metadata": {
            "tags": []
          }
        }
      ]
    }
  ]
}